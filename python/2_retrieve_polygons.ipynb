{
 "cells": [
  {
   "cell_type": "markdown",
   "metadata": {},
   "source": [
    "## Retrieve polygons\n",
    "\n",
    "This Python notebook is responsible for associating the coordinates (X, Y) of shot attempts with the corresponding sector. This step is performed on the three datasets obtained earlier using R. \n",
    "\n",
    "This operation was carried out using the Shapely library, which allows for the creation of Point and Polygon objects and checks whether a point lies within a polygon using the `contains` and `touches` functions of the Polygon class. \n",
    "\n",
    "The script essentially recreates a CSV identical to the original, with the addition of the `sector_id` column that indicates the ID of the polygon in which the shot was taken."
   ]
  },
  {
   "cell_type": "code",
   "execution_count": 1,
   "metadata": {},
   "outputs": [],
   "source": [
    "from shapely.geometry import Point, Polygon\n",
    "import pandas as pd\n",
    "\n",
    "shot_map_name = 'AVVERSARIO_shot_map_po' # BRESCIA_shot_map_po, LBA_shot_map_po\n",
    "\n",
    "df = pd.read_csv('../csv/polygons.csv')\n",
    "df_shot_map = pd.read_csv('../csv/' + shot_map_name + '.csv')"
   ]
  },
  {
   "cell_type": "code",
   "execution_count": 2,
   "metadata": {},
   "outputs": [],
   "source": [
    "# retrieve dictionary with polygons\n",
    "polygons = {}\n",
    "\n",
    "polygon_ids = set(df.shapeId)\n",
    "for polygon_id in polygon_ids:\n",
    "    df_temp = df[df.shapeId == polygon_id]\n",
    "    points = list(zip(df_temp.pointX, df_temp.pointY))\n",
    "    polygons.update({polygon_id:points})"
   ]
  },
  {
   "cell_type": "code",
   "execution_count": 3,
   "metadata": {},
   "outputs": [],
   "source": [
    "def retrieve_polygon_id(row):\n",
    "    \"\"\"\n",
    "    function to retrieve the polygon of the point\n",
    "    \"\"\"\n",
    "    p = Point(row['xx'], row['yy'])\n",
    "    for key, value in polygons.items():\n",
    "        poly = Polygon(value)\n",
    "        if poly.contains(p) or poly.touches(p):\n",
    "            return key\n",
    "    return -1"
   ]
  },
  {
   "cell_type": "code",
   "execution_count": 4,
   "metadata": {},
   "outputs": [],
   "source": [
    "df_shot_map['sector_id'] = df_shot_map.apply(lambda row: retrieve_polygon_id(row), axis=1)"
   ]
  },
  {
   "cell_type": "code",
   "execution_count": 5,
   "metadata": {},
   "outputs": [
    {
     "data": {
      "text/plain": [
       "sector_id\n",
       "0    244\n",
       "1     21\n",
       "2     62\n",
       "3     45\n",
       "4     23\n",
       "5     40\n",
       "6    113\n",
       "7    114\n",
       "8     22\n",
       "Name: sector_id, dtype: int64"
      ]
     },
     "execution_count": 5,
     "metadata": {},
     "output_type": "execute_result"
    }
   ],
   "source": [
    "df_shot_map.groupby(['sector_id'])['sector_id'].count()"
   ]
  },
  {
   "cell_type": "code",
   "execution_count": 6,
   "metadata": {},
   "outputs": [],
   "source": [
    "df_shot_map['sector_id'] = df_shot_map['sector_id'].astype(int)\n",
    "df_shot_map.to_csv('../csv/' + shot_map_name + '_with_sector_id.csv')"
   ]
  },
  {
   "cell_type": "code",
   "execution_count": 7,
   "metadata": {},
   "outputs": [
    {
     "data": {
      "text/html": [
       "<div>\n",
       "<style scoped>\n",
       "    .dataframe tbody tr th:only-of-type {\n",
       "        vertical-align: middle;\n",
       "    }\n",
       "\n",
       "    .dataframe tbody tr th {\n",
       "        vertical-align: top;\n",
       "    }\n",
       "\n",
       "    .dataframe thead th {\n",
       "        text-align: right;\n",
       "    }\n",
       "</style>\n",
       "<table border=\"1\" class=\"dataframe\">\n",
       "  <thead>\n",
       "    <tr style=\"text-align: right;\">\n",
       "      <th></th>\n",
       "      <th>game_id</th>\n",
       "      <th>description</th>\n",
       "      <th>assist</th>\n",
       "      <th>player</th>\n",
       "      <th>result</th>\n",
       "      <th>periodTime</th>\n",
       "      <th>totalTime</th>\n",
       "      <th>xx</th>\n",
       "      <th>yy</th>\n",
       "      <th>sector_id</th>\n",
       "    </tr>\n",
       "  </thead>\n",
       "  <tbody>\n",
       "    <tr>\n",
       "      <th>0</th>\n",
       "      <td>Milano Trento game 1</td>\n",
       "      <td>2 punti segnato</td>\n",
       "      <td>NaN</td>\n",
       "      <td>Shavon Shields</td>\n",
       "      <td>made</td>\n",
       "      <td>34</td>\n",
       "      <td>34</td>\n",
       "      <td>1020</td>\n",
       "      <td>644</td>\n",
       "      <td>3</td>\n",
       "    </tr>\n",
       "    <tr>\n",
       "      <th>1</th>\n",
       "      <td>Milano Trento game 1</td>\n",
       "      <td>2 punti sbagliato</td>\n",
       "      <td>NaN</td>\n",
       "      <td>Stefano Tonut</td>\n",
       "      <td>missed</td>\n",
       "      <td>102</td>\n",
       "      <td>102</td>\n",
       "      <td>825</td>\n",
       "      <td>196</td>\n",
       "      <td>0</td>\n",
       "    </tr>\n",
       "    <tr>\n",
       "      <th>2</th>\n",
       "      <td>Milano Trento game 1</td>\n",
       "      <td>2 punti sbagliato</td>\n",
       "      <td>NaN</td>\n",
       "      <td>Nicolò Melli</td>\n",
       "      <td>missed</td>\n",
       "      <td>102</td>\n",
       "      <td>102</td>\n",
       "      <td>825</td>\n",
       "      <td>196</td>\n",
       "      <td>0</td>\n",
       "    </tr>\n",
       "    <tr>\n",
       "      <th>3</th>\n",
       "      <td>Milano Trento game 1</td>\n",
       "      <td>3 punti segnato</td>\n",
       "      <td>Nicolò Melli</td>\n",
       "      <td>Shavon Shields</td>\n",
       "      <td>made</td>\n",
       "      <td>128</td>\n",
       "      <td>128</td>\n",
       "      <td>1020</td>\n",
       "      <td>896</td>\n",
       "      <td>7</td>\n",
       "    </tr>\n",
       "    <tr>\n",
       "      <th>4</th>\n",
       "      <td>Milano Trento game 1</td>\n",
       "      <td>3 punti segnato</td>\n",
       "      <td>NaN</td>\n",
       "      <td>Shabazz Napier</td>\n",
       "      <td>made</td>\n",
       "      <td>218</td>\n",
       "      <td>218</td>\n",
       "      <td>300</td>\n",
       "      <td>840</td>\n",
       "      <td>6</td>\n",
       "    </tr>\n",
       "  </tbody>\n",
       "</table>\n",
       "</div>"
      ],
      "text/plain": [
       "                game_id        description        assist          player  \\\n",
       "0  Milano Trento game 1    2 punti segnato           NaN  Shavon Shields   \n",
       "1  Milano Trento game 1  2 punti sbagliato           NaN   Stefano Tonut   \n",
       "2  Milano Trento game 1  2 punti sbagliato           NaN    Nicolò Melli   \n",
       "3  Milano Trento game 1    3 punti segnato  Nicolò Melli  Shavon Shields   \n",
       "4  Milano Trento game 1    3 punti segnato           NaN  Shabazz Napier   \n",
       "\n",
       "   result  periodTime  totalTime    xx   yy  sector_id  \n",
       "0    made          34         34  1020  644          3  \n",
       "1  missed         102        102   825  196          0  \n",
       "2  missed         102        102   825  196          0  \n",
       "3    made         128        128  1020  896          7  \n",
       "4    made         218        218   300  840          6  "
      ]
     },
     "execution_count": 7,
     "metadata": {},
     "output_type": "execute_result"
    }
   ],
   "source": [
    "df_shot_map.head()"
   ]
  }
 ],
 "metadata": {
  "kernelspec": {
   "display_name": "BasketballScrapeR",
   "language": "python",
   "name": "python3"
  },
  "language_info": {
   "codemirror_mode": {
    "name": "ipython",
    "version": 3
   },
   "file_extension": ".py",
   "mimetype": "text/x-python",
   "name": "python",
   "nbconvert_exporter": "python",
   "pygments_lexer": "ipython3",
   "version": "3.12.1"
  }
 },
 "nbformat": 4,
 "nbformat_minor": 2
}
